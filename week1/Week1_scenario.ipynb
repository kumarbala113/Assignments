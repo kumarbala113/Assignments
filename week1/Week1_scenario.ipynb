{
 "cells": [
  {
   "cell_type": "code",
   "execution_count": null,
   "id": "25c62fa6-20b8-4ef2-84e0-b216e5155af9",
   "metadata": {},
   "outputs": [],
   "source": [
    "1.\tScenario: A system checks if a user is eligible to vote based on their age.\n",
    " Write logic to ask the user for their age and determine if they are eligible to vote based on whether they are 18 or older."
   ]
  },
  {
   "cell_type": "code",
   "execution_count": 2,
   "id": "6fa8db11-dcbd-4f96-892a-8f4dfe047777",
   "metadata": {},
   "outputs": [
    {
     "name": "stdin",
     "output_type": "stream",
     "text": [
      "Enter your age:  18\n"
     ]
    },
    {
     "name": "stdout",
     "output_type": "stream",
     "text": [
      "You are eligible to vote.\n"
     ]
    }
   ],
   "source": [
    "# Program to check voting eligibility\n",
    "\n",
    "# Ask the user for their age\n",
    "age = int(input(\"Enter your age: \"))\n",
    "\n",
    "# Check eligibility\n",
    "if age >= 18:\n",
    "    print(\"You are eligible to vote.\")\n",
    "else:\n",
    "    print(\"You are not eligible to vote yet.\")\n"
   ]
  },
  {
   "cell_type": "code",
   "execution_count": null,
   "id": "61feabbe-8892-47ab-842b-1ca64ad4971b",
   "metadata": {},
   "outputs": [],
   "source": [
    "2.\tScenario: A program processes a list of numbers and needs to find the largest value.\n",
    " Write logic to identify and return the largest number from a given list.\n"
   ]
  },
  {
   "cell_type": "code",
   "execution_count": 1,
   "id": "480973e1-193c-4aac-b272-dca184228bd7",
   "metadata": {},
   "outputs": [
    {
     "name": "stdout",
     "output_type": "stream",
     "text": [
      "The largest number is: 42\n"
     ]
    }
   ],
   "source": [
    "def find_largest_number(numbers):\n",
    "    if not numbers:\n",
    "        return None  # Handle empty list case\n",
    "\n",
    "    largest = numbers[0]\n",
    "    for num in numbers[1:]:\n",
    "        if num > largest:\n",
    "            largest = num\n",
    "    return largest\n",
    "\n",
    "\n",
    "sample_list = [3, 17, 9, 42, 5, 28]\n",
    "result = find_largest_number(sample_list)\n",
    "print(\"The largest number is:\", result)\n",
    "\n"
   ]
  },
  {
   "cell_type": "code",
   "execution_count": null,
   "id": "2205a339-02e2-4c80-ba9c-f464c9447c1f",
   "metadata": {},
   "outputs": [],
   "source": [
    "3.\tScenario: A company provides employees with a 10% bonus if their salary exceeds $50,000.\n",
    " Write logic to determine the bonus amount based on the given salary.\n"
   ]
  },
  {
   "cell_type": "code",
   "execution_count": 1,
   "id": "ff169f31-47b6-4ace-8f83-4cc75fb1957e",
   "metadata": {},
   "outputs": [
    {
     "name": "stdout",
     "output_type": "stream",
     "text": [
      "Bonus for salary $62000: $6200.00\n"
     ]
    }
   ],
   "source": [
    "def calculate_bonus(salary):\n",
    "    if salary > 50000:\n",
    "        bonus = salary * 0.10\n",
    "    else:\n",
    "        bonus = 0\n",
    "    return bonus\n",
    "\n",
    "employee_salary = 62000\n",
    "bonus_amount = calculate_bonus(employee_salary)\n",
    "print(f\"Bonus for salary ${employee_salary}: ${bonus_amount:.2f}\")"
   ]
  },
  {
   "cell_type": "code",
   "execution_count": null,
   "id": "06dada54-5a63-40e8-a4cd-a71935b22057",
   "metadata": {},
   "outputs": [],
   "source": [
    "4.\tScenario: A program evaluates a number to determine if it is even or odd.\n",
    " Write logic to check whether a given number is even or odd.\n"
   ]
  },
  {
   "cell_type": "code",
   "execution_count": 2,
   "id": "3386ad17-2061-4f60-86f9-17625b0cd9b4",
   "metadata": {},
   "outputs": [
    {
     "name": "stdout",
     "output_type": "stream",
     "text": [
      "The number 37 is Odd.\n"
     ]
    }
   ],
   "source": [
    "def check_even_or_odd(number):\n",
    "    if number % 2 == 0:\n",
    "        return \"Even\"\n",
    "    else:\n",
    "        return \"Odd\"\n",
    "\n",
    "num = 37\n",
    "result = check_even_or_odd(num)\n",
    "print(f\"The number {num} is {result}.\")"
   ]
  },
  {
   "cell_type": "code",
   "execution_count": null,
   "id": "30f7b530-cc46-4099-ab1c-34d50f0a4da0",
   "metadata": {},
   "outputs": [],
   "source": [
    "5.\tScenario: A text-processing tool reverses a given word or sentence for formatting purposes.\n",
    " Write logic to take a word or sentence as input and produce its reversed version.\n"
   ]
  },
  {
   "cell_type": "code",
   "execution_count": 3,
   "id": "feb17938-bf18-47c4-805f-59cabdd0af04",
   "metadata": {},
   "outputs": [
    {
     "name": "stdout",
     "output_type": "stream",
     "text": [
      "Original: Hello world\n",
      "Reversed: dlrow olleH\n"
     ]
    }
   ],
   "source": [
    "def reverse_text(text):\n",
    "    return text[::-1]\n",
    "\n",
    "input_text = \"Hello world\"\n",
    "reversed_text = reverse_text(input_text)\n",
    "print(f\"Original: {input_text}\")\n",
    "print(f\"Reversed: {reversed_text}\")\n"
   ]
  },
  {
   "cell_type": "code",
   "execution_count": null,
   "id": "c73685eb-3971-4c11-aec9-936e5c403978",
   "metadata": {},
   "outputs": [],
   "source": [
    "6.\tScenario: A grading system determines whether a student has passed or failed based on their score.\n",
    " Write logic to check if a student has passed a subject by scoring at least 40 marks.\n"
   ]
  },
  {
   "cell_type": "code",
   "execution_count": 4,
   "id": "00c27258-e065-4a32-95fe-c41aeb24fa1f",
   "metadata": {},
   "outputs": [
    {
     "name": "stdout",
     "output_type": "stream",
     "text": [
      "Student scored 38: Fail\n"
     ]
    }
   ],
   "source": [
    "def check_pass_fail(score):\n",
    "    if score >= 40:\n",
    "        return \"Pass\"\n",
    "    else:\n",
    "        return \"Fail\"\n",
    "\n",
    "student_score = 38\n",
    "result = check_pass_fail(student_score)\n",
    "print(f\"Student scored {student_score}: {result}\")\n"
   ]
  },
  {
   "cell_type": "code",
   "execution_count": null,
   "id": "87c1e9ad-1b26-4e6a-898d-124cbed1cb33",
   "metadata": {},
   "outputs": [],
   "source": [
    "7.\tScenario: A retail store offers a 20% discount if a customer’s total order exceeds $100. Write logic to calculate the final amount to be paid after applying the discount."
   ]
  },
  {
   "cell_type": "code",
   "execution_count": 5,
   "id": "76cee08f-f6a5-4f35-a048-24573a0f7098",
   "metadata": {},
   "outputs": [
    {
     "name": "stdout",
     "output_type": "stream",
     "text": [
      "Original Total: $135.50\n",
      "Final Amount to Pay: $108.40\n"
     ]
    }
   ],
   "source": [
    "def calculate_final_amount(order_total):\n",
    "    if order_total > 100:\n",
    "        discount = order_total * 0.20\n",
    "    else:\n",
    "        discount = 0\n",
    "    final_amount = order_total - discount\n",
    "    return final_amount\n",
    "\n",
    "total_order = 135.50\n",
    "final_price = calculate_final_amount(total_order)\n",
    "print(f\"Original Total: ${total_order:.2f}\")\n",
    "print(f\"Final Amount to Pay: ${final_price:.2f}\")"
   ]
  },
  {
   "cell_type": "code",
   "execution_count": null,
   "id": "95f53726-f6ba-4276-b4d9-2aa274a38958",
   "metadata": {},
   "outputs": [],
   "source": [
    "8.\tScenario: A banking system processes withdrawal requests and ensures the user has enough balance.\n",
    "\n",
    " Write logic to check if a user has enough balance before allowing a withdrawal and update the remaining balance accordingly.\n"
   ]
  },
  {
   "cell_type": "code",
   "execution_count": 8,
   "id": "84fab2c2-8ea1-43e4-a0de-a6ad64b78ff5",
   "metadata": {},
   "outputs": [
    {
     "name": "stdout",
     "output_type": "stream",
     "text": [
      "Withdrawal successful\n",
      "Remaining Balance: $150.00\n"
     ]
    }
   ],
   "source": [
    "def process_withdrawal(balance, withdrawal_amount):\n",
    "    if withdrawal_amount <= balance:\n",
    "        balance -= withdrawal_amount\n",
    "        return balance, \"Withdrawal successful\"\n",
    "    else:\n",
    "        return balance, \"Insufficient balance\"\n",
    "\n",
    "current_balance = 250.00\n",
    "withdraw_amount = 100.00\n",
    "\n",
    "updated_balance, message = process_withdrawal(current_balance, withdraw_amount)\n",
    "print(message)\n",
    "print(f\"Remaining Balance: ${updated_balance:.2f}\")\n"
   ]
  },
  {
   "cell_type": "code",
   "execution_count": null,
   "id": "1b2ee1e7-aa36-4136-9c6d-2b9b71601fa7",
   "metadata": {},
   "outputs": [],
   "source": [
    "9. Scenario: A calendar system verifies whether a given year is a leap year based on standard leap year rules.\n",
    " Write logic to determine whether a given year is a leap year.\n"
   ]
  },
  {
   "cell_type": "code",
   "execution_count": 9,
   "id": "e9bc02ac-7c92-4832-b1d6-17fe0d95c0ce",
   "metadata": {},
   "outputs": [
    {
     "name": "stdout",
     "output_type": "stream",
     "text": [
      "2024 is a leap year.\n"
     ]
    }
   ],
   "source": [
    "def is_leap_year(year):\n",
    "    if (year % 4 == 0 and year % 100 != 0) or (year % 400 == 0):\n",
    "        return True\n",
    "    else:\n",
    "        return False\n",
    "\n",
    "year = 2024\n",
    "if is_leap_year(year):\n",
    "    print(f\"{year} is a leap year.\")\n",
    "else:\n",
    "    print(f\"{year} is not a leap year.\")\n"
   ]
  },
  {
   "cell_type": "code",
   "execution_count": null,
   "id": "e441cbeb-33ad-4883-8f2a-8133e1fb02a5",
   "metadata": {},
   "outputs": [],
   "source": [
    "10.\tScenario: A program filters out only even numbers from a given list.\n",
    " Write logic to extract and return only the even numbers from a list.\n"
   ]
  },
  {
   "cell_type": "code",
   "execution_count": 10,
   "id": "08d2009e-6e07-4113-9ef7-cf13f560f5e2",
   "metadata": {},
   "outputs": [
    {
     "name": "stdout",
     "output_type": "stream",
     "text": [
      "Even numbers: [12, 24, 42]\n"
     ]
    }
   ],
   "source": [
    "def filter_even_numbers(numbers):\n",
    "    return [num for num in numbers if num % 2 == 0]\n",
    "\n",
    "sample_list = [12, 7, 9, 24, 31, 42, 55]\n",
    "even_numbers = filter_even_numbers(sample_list)\n",
    "print(\"Even numbers:\", even_numbers)"
   ]
  },
  {
   "cell_type": "code",
   "execution_count": null,
   "id": "f4e37636-1a95-4410-8142-33afc77bb7c4",
   "metadata": {},
   "outputs": [],
   "source": []
  }
 ],
 "metadata": {
  "kernelspec": {
   "display_name": "Python 3 (ipykernel)",
   "language": "python",
   "name": "python3"
  },
  "language_info": {
   "codemirror_mode": {
    "name": "ipython",
    "version": 3
   },
   "file_extension": ".py",
   "mimetype": "text/x-python",
   "name": "python",
   "nbconvert_exporter": "python",
   "pygments_lexer": "ipython3",
   "version": "3.12.7"
  }
 },
 "nbformat": 4,
 "nbformat_minor": 5
}
