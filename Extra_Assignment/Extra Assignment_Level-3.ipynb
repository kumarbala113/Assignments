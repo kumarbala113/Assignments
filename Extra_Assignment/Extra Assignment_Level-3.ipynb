{
 "cells": [
  {
   "cell_type": "code",
   "execution_count": 2,
   "id": "95f63b47-37dd-419d-a503-ec562345964f",
   "metadata": {},
   "outputs": [
    {
     "name": "stdin",
     "output_type": "stream",
     "text": [
      "Enter a number: 10\n"
     ]
    },
    {
     "name": "stdout",
     "output_type": "stream",
     "text": [
      "CORRECT\n"
     ]
    }
   ],
   "source": [
    "# print 'CORRECT' if i == 10\n",
    "i=int(input(\"Enter a number:\"))\n",
    "if (i == 10):\n",
    "    print(\"CORRECT\")"
   ]
  },
  {
   "cell_type": "code",
   "execution_count": 5,
   "id": "6dc42a61-2d5f-471c-9e8c-7a33d18f6cdb",
   "metadata": {},
   "outputs": [
    {
     "name": "stdin",
     "output_type": "stream",
     "text": [
      "Enter the password: HOPE@123\n"
     ]
    },
    {
     "name": "stdout",
     "output_type": "stream",
     "text": [
      "Your Password is correct\n"
     ]
    }
   ],
   "source": [
    "# Check the password, using if and else\n",
    "password=input(\"Enter the password:\")\n",
    "if (password == \"HOPE@123\"):\n",
    "    print(\"Your Password is correct\")\n",
    "else:\n",
    "    print(\"Incorrect Password\")"
   ]
  },
  {
   "cell_type": "code",
   "execution_count": 6,
   "id": "6e9375e7-084d-4913-b5cc-9947c42f4c10",
   "metadata": {},
   "outputs": [
    {
     "name": "stdin",
     "output_type": "stream",
     "text": [
      "Enter the age: 20\n"
     ]
    },
    {
     "name": "stdout",
     "output_type": "stream",
     "text": [
      "Adult\n"
     ]
    }
   ],
   "source": [
    "# Categorise the people by age, etc...\n",
    "age=int(input(\"Enter the age:\"))\n",
    "if (age <=18):\n",
    "    print(\"Children\")\n",
    "elif (age <=35):\n",
    "    print(\"Adult\")\n",
    "elif (age <=59):\n",
    "    print(\"Citizen\")\n",
    "else:\n",
    "    print(\"Senior Citizen\")"
   ]
  },
  {
   "cell_type": "code",
   "execution_count": 8,
   "id": "bce7e5e7-75bd-4de8-ae63-8abac8eecb28",
   "metadata": {},
   "outputs": [
    {
     "name": "stdin",
     "output_type": "stream",
     "text": [
      "Enter any number: -5\n"
     ]
    },
    {
     "name": "stdout",
     "output_type": "stream",
     "text": [
      "-5  is negative\n"
     ]
    }
   ],
   "source": [
    "# Find the given number is positive or negative\n",
    "number=int(input(\"Enter any number:\"))\n",
    "if (number >= 0):\n",
    "    print(number, \" is positive\")\n",
    "else:\n",
    "    print(number, \" is negative\")"
   ]
  },
  {
   "cell_type": "code",
   "execution_count": 10,
   "id": "e174020c-a200-4566-8e68-ee7ca2ed0dac",
   "metadata": {},
   "outputs": [
    {
     "name": "stdin",
     "output_type": "stream",
     "text": [
      "Enter a number to check: 3\n"
     ]
    },
    {
     "name": "stdout",
     "output_type": "stream",
     "text": [
      "3 is not divisible by 5.\n"
     ]
    }
   ],
   "source": [
    "# Check if the given number is divisible by 5\n",
    "number=int(input(\"Enter a number to check:\"))\n",
    "if number % 5 == 0:\n",
    "    print(number,\"is divisible by 5.\")\n",
    "else:\n",
    "    print(number,\"is not divisible by 5.\")"
   ]
  },
  {
   "cell_type": "code",
   "execution_count": null,
   "id": "0d9612d2-1c0d-4451-8d63-97d711b86069",
   "metadata": {},
   "outputs": [],
   "source": []
  }
 ],
 "metadata": {
  "kernelspec": {
   "display_name": "Python 3 (ipykernel)",
   "language": "python",
   "name": "python3"
  },
  "language_info": {
   "codemirror_mode": {
    "name": "ipython",
    "version": 3
   },
   "file_extension": ".py",
   "mimetype": "text/x-python",
   "name": "python",
   "nbconvert_exporter": "python",
   "pygments_lexer": "ipython3",
   "version": "3.12.7"
  }
 },
 "nbformat": 4,
 "nbformat_minor": 5
}
