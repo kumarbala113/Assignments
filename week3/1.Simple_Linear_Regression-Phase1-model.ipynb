{
 "cells": [
  {
   "cell_type": "code",
   "execution_count": 24,
   "id": "2c8dac10-0719-4ffc-a317-fba5352ecb81",
   "metadata": {},
   "outputs": [
    {
     "name": "stdout",
     "output_type": "stream",
     "text": [
      "[[167181.3106341]]\n"
     ]
    },
    {
     "name": "stderr",
     "output_type": "stream",
     "text": [
      "/home/kumar/anaconda3/lib/python3.12/site-packages/sklearn/base.py:493: UserWarning: X does not have valid feature names, but LinearRegression was fitted with feature names\n",
      "  warnings.warn(\n"
     ]
    }
   ],
   "source": [
    "# import libraries\n",
    "import pandas as pd\n",
    "\n",
    "# Read CSV File\n",
    "dataset=pd.read_csv(\"Salary_Data.csv\")\n",
    "\n",
    "# Print raw data\n",
    "#print(dataset)\n",
    "\n",
    "# Store YearsExperience column in independent\n",
    "independent = dataset[[\"YearsExperience\"]]\n",
    "#print(independent)\n",
    "\n",
    "# Store Salary column in dependent\n",
    "dependent = dataset[[\"Salary\"]]\n",
    "#print(dependent)\n",
    "\n",
    "# import train, test and split from scikit\n",
    "from sklearn.model_selection import train_test_split\n",
    "#train_test_split(independent,dependent,test_size=0.30,random_state=0)\n",
    "#returns 4 lists x2 YearsExperience and x2 Salary\n",
    "# X is input and y is output\n",
    "X_train,X_test,y_train,y_test = train_test_split(independent,dependent,test_size=0.30,random_state=0)\n",
    "\n",
    "# import Linear Regression library\n",
    "from sklearn.linear_model import LinearRegression\n",
    "regressor=LinearRegression()\n",
    "regressor.fit(X_train,y_train)\n",
    "\n",
    "# Weight\n",
    "weight=regressor.coef_\n",
    "#print(weight)\n",
    "\n",
    "# Bias\n",
    "bais=regressor.intercept_\n",
    "#print(bais)\n",
    "\n",
    "# Evaluation\n",
    "y_pred=regressor.predict(X_test)\n",
    "#print(y_pred)\n",
    "\n",
    "# R square value\n",
    "from sklearn.metrics import r2_score\n",
    "r_score = r2_score(y_test,y_pred)\n",
    "#print(r_score)\n",
    "\n",
    "# Save the model\n",
    "import pickle\n",
    "filename = 'finalized_model_linear.sav'\n",
    "pickle.dump(regressor, open(filename, 'wb'))\n",
    "\n",
    "# load the saved model\n",
    "loaded_model = pickle.load(open('finalized_model_linear.sav', 'rb'))\n",
    "result = loaded_model.predict([[15]])\n",
    "print(result)"
   ]
  },
  {
   "cell_type": "code",
   "execution_count": null,
   "id": "b00e66f2-6979-4b03-85ad-35e2e9c6be44",
   "metadata": {},
   "outputs": [],
   "source": []
  },
  {
   "cell_type": "code",
   "execution_count": null,
   "id": "1ca8174a-5122-4250-bd57-924ee9cf5585",
   "metadata": {},
   "outputs": [],
   "source": []
  }
 ],
 "metadata": {
  "kernelspec": {
   "display_name": "Python 3 (ipykernel)",
   "language": "python",
   "name": "python3"
  },
  "language_info": {
   "codemirror_mode": {
    "name": "ipython",
    "version": 3
   },
   "file_extension": ".py",
   "mimetype": "text/x-python",
   "name": "python",
   "nbconvert_exporter": "python",
   "pygments_lexer": "ipython3",
   "version": "3.12.7"
  }
 },
 "nbformat": 4,
 "nbformat_minor": 5
}
