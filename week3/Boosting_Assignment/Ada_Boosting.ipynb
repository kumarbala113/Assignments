{
 "cells": [
  {
   "cell_type": "code",
   "execution_count": 15,
   "id": "4ee1b7d5-fa4e-42ff-b0a5-063c95d952df",
   "metadata": {},
   "outputs": [
    {
     "name": "stdout",
     "output_type": "stream",
     "text": [
      "0.8236121548453632\n"
     ]
    }
   ],
   "source": [
    "# import libraries\n",
    "from sklearn.ensemble import AdaBoostRegressor\n",
    "from sklearn.tree import DecisionTreeRegressor\n",
    "from sklearn.model_selection import train_test_split\n",
    "from sklearn.metrics import r2_score\n",
    "import pandas as pd\n",
    "\n",
    "# Read CSV File\n",
    "dataset=pd.read_csv(\"insurance_pre.csv\")\n",
    "#print(dataset)\n",
    "\n",
    "# Preprocess \n",
    "dataset = pd.get_dummies(dataset,drop_first=True)\n",
    "#print(dataset)\n",
    "#print(dataset.columns)\n",
    "\n",
    "#independent=dataset[['age', 'sex_male', 'bmi', 'children', 'smoker_yes']]\n",
    "#print(independent)\n",
    "\n",
    "#dependent=dataset[['charges']]\n",
    "#print(dependent)\n",
    "\n",
    "# Split features and target\n",
    "X = dataset.drop('charges',axis=1)\n",
    "y = dataset['charges']\n",
    "\n",
    "# Train-test split\n",
    "X_train, X_test, y_train, y_test = train_test_split(X,y,test_size=0.2, random_state=42)\n",
    "#print(X_train)\n",
    "\n",
    "\n",
    "# Initialize AdaBoost\n",
    "ada_model = AdaBoostRegressor(\n",
    "    estimator=None,   #DecisionTreeRegressor(max_depth=4),\n",
    "    n_estimators=50,\n",
    "    learning_rate=1.0,\n",
    "    random_state=None\n",
    ")\n",
    "\n",
    "# Train the model\n",
    "ada_model.fit(X_train, y_train)\n",
    "\n",
    "# Predict\n",
    "y_pred = ada_model.predict(X_test)\n",
    "r2 = r2_score(y_test, y_pred)\n",
    "\n",
    "print(r2)\n",
    "    \n"
   ]
  },
  {
   "cell_type": "code",
   "execution_count": 3,
   "id": "15e20a5e-cc10-42a2-9b6f-0e72c0dc94a6",
   "metadata": {},
   "outputs": [
    {
     "name": "stdout",
     "output_type": "stream",
     "text": [
      "Collecting ada-boost\n",
      "  Downloading ada_boost-0.0.1-py3-none-any.whl.metadata (219 bytes)\n",
      "Requirement already satisfied: pytz in /home/kumar/anaconda3/lib/python3.12/site-packages (from ada-boost) (2024.1)\n",
      "Downloading ada_boost-0.0.1-py3-none-any.whl (1.7 kB)\n",
      "Installing collected packages: ada-boost\n",
      "Successfully installed ada-boost-0.0.1\n"
     ]
    }
   ],
   "source": []
  },
  {
   "cell_type": "code",
   "execution_count": null,
   "id": "ccd64c9b-bceb-40f9-b81a-e01d0db09408",
   "metadata": {},
   "outputs": [],
   "source": []
  }
 ],
 "metadata": {
  "kernelspec": {
   "display_name": "Python 3 (ipykernel)",
   "language": "python",
   "name": "python3"
  },
  "language_info": {
   "codemirror_mode": {
    "name": "ipython",
    "version": 3
   },
   "file_extension": ".py",
   "mimetype": "text/x-python",
   "name": "python",
   "nbconvert_exporter": "python",
   "pygments_lexer": "ipython3",
   "version": "3.12.7"
  }
 },
 "nbformat": 4,
 "nbformat_minor": 5
}
