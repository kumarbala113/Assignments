{
 "cells": [
  {
   "cell_type": "code",
   "execution_count": 1,
   "id": "05084acb-8a3f-42c7-a7fa-d9a2af95d2da",
   "metadata": {},
   "outputs": [
    {
     "name": "stdout",
     "output_type": "stream",
     "text": [
      "0.8497106010193014\n"
     ]
    },
    {
     "name": "stderr",
     "output_type": "stream",
     "text": [
      "/home/kumar/anaconda3/lib/python3.12/site-packages/sklearn/base.py:1473: DataConversionWarning: A column-vector y was passed when a 1d array was expected. Please change the shape of y to (n_samples,), for example using ravel().\n",
      "  return fit_method(estimator, *args, **kwargs)\n"
     ]
    }
   ],
   "source": [
    "# import libraries\n",
    "import pandas as pd\n",
    "\n",
    "# Read CSV File\n",
    "dataset=pd.read_csv(\"insurance_pre.csv\")\n",
    "#print(dataset)\n",
    "\n",
    "dataset = pd.get_dummies(dataset,drop_first=True)\n",
    "#print(dataset)\n",
    "#print(dataset.columns)\n",
    "\n",
    "independent=dataset[['age', 'sex_male', 'bmi', 'children', 'smoker_yes']]\n",
    "#print(independent)\n",
    "\n",
    "dependent=dataset[['charges']]\n",
    "#print(dependent)\n",
    "\n",
    "from sklearn.model_selection import train_test_split\n",
    "X_train,X_test,y_train,y_test = train_test_split(independent,dependent,test_size=0.30,random_state=0)\n",
    "#print(X_train)\n",
    "\n",
    "from sklearn.ensemble import RandomForestRegressor\n",
    "regressor = RandomForestRegressor(n_estimators = 50, random_state = 0)\n",
    "regressor.fit(X_train,y_train)\n",
    "\n",
    "y_pred=regressor.predict(X_test)\n",
    "#print(y_pred)\n",
    "\n",
    "from sklearn.metrics import r2_score\n",
    "r_score = r2_score(y_test,y_pred)\n",
    "print(r_score)\n",
    "\n"
   ]
  },
  {
   "cell_type": "code",
   "execution_count": null,
   "id": "57bbaa3a-8687-4bd3-9694-1fcc0cc1492b",
   "metadata": {},
   "outputs": [],
   "source": []
  }
 ],
 "metadata": {
  "kernelspec": {
   "display_name": "Python 3 (ipykernel)",
   "language": "python",
   "name": "python3"
  },
  "language_info": {
   "codemirror_mode": {
    "name": "ipython",
    "version": 3
   },
   "file_extension": ".py",
   "mimetype": "text/x-python",
   "name": "python",
   "nbconvert_exporter": "python",
   "pygments_lexer": "ipython3",
   "version": "3.12.7"
  }
 },
 "nbformat": 4,
 "nbformat_minor": 5
}
