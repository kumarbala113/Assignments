{
 "cells": [
  {
   "cell_type": "code",
   "execution_count": 41,
   "id": "847fcba0-9c14-4932-9d31-a798694bc255",
   "metadata": {},
   "outputs": [
    {
     "name": "stdout",
     "output_type": "stream",
     "text": [
      "0.7894790349867009\n",
      "[[7494.99391353]]\n"
     ]
    },
    {
     "name": "stderr",
     "output_type": "stream",
     "text": [
      "/home/kumar/anaconda3/lib/python3.12/site-packages/sklearn/base.py:493: UserWarning: X does not have valid feature names, but LinearRegression was fitted with feature names\n",
      "  warnings.warn(\n"
     ]
    }
   ],
   "source": [
    "# import libraries\n",
    "import pandas as pd\n",
    "\n",
    "# Read CSV File\n",
    "dataset=pd.read_csv(\"insurance_pre.csv\")\n",
    "#print(dataset)\n",
    "\n",
    "dataset = pd.get_dummies(dataset,drop_first=True)\n",
    "#print(dataset)\n",
    "#print(dataset.columns)\n",
    "\n",
    "independent=dataset[['age', 'sex_male', 'bmi', 'children', 'smoker_yes']]\n",
    "#print(independent)\n",
    "\n",
    "dependent=dataset[['charges']]\n",
    "#print(dependent)\n",
    "\n",
    "# import train, test and split from scikit\n",
    "from sklearn.model_selection import train_test_split\n",
    "X_train,X_test,y_train,y_test = train_test_split(independent,dependent,test_size=0.30,random_state=0)\n",
    "#print(X_train)\n",
    "\n",
    "# import Linear Regression library\n",
    "from sklearn.linear_model import LinearRegression\n",
    "regressor=LinearRegression()\n",
    "regressor.fit(X_train,y_train)\n",
    "\n",
    "# Weight\n",
    "weight=regressor.coef_\n",
    "#print(weight)\n",
    "\n",
    "# Bias\n",
    "bais=regressor.intercept_\n",
    "#print(bais)\n",
    "\n",
    "# Evaluation\n",
    "y_pred=regressor.predict(X_test)\n",
    "#print(y_pred)\n",
    "\n",
    "# R square value\n",
    "from sklearn.metrics import r2_score\n",
    "r_score = r2_score(y_test,y_pred)\n",
    "print(r_score)\n",
    "\n",
    "# Save the model\n",
    "import pickle\n",
    "filename = 'Assignment_Multi_Linear_Regression.sav'\n",
    "pickle.dump(regressor, open(filename, 'wb'))\n",
    "\n",
    "# load the saved model\n",
    "loaded_model = pickle.load(open('Assignment_Multi_Linear_Regression.sav', 'rb'))\n",
    "# age, sex, bmi, children, smoker => predict charges\n",
    "result = loaded_model.predict([[35,1,30,2,0]])\n",
    "print(result)\n",
    "\n"
   ]
  },
  {
   "cell_type": "code",
   "execution_count": null,
   "id": "00138354-6e27-4ed5-bf03-ed1cbb0ac192",
   "metadata": {},
   "outputs": [],
   "source": []
  }
 ],
 "metadata": {
  "kernelspec": {
   "display_name": "Python 3 (ipykernel)",
   "language": "python",
   "name": "python3"
  },
  "language_info": {
   "codemirror_mode": {
    "name": "ipython",
    "version": 3
   },
   "file_extension": ".py",
   "mimetype": "text/x-python",
   "name": "python",
   "nbconvert_exporter": "python",
   "pygments_lexer": "ipython3",
   "version": "3.12.7"
  }
 },
 "nbformat": 4,
 "nbformat_minor": 5
}
