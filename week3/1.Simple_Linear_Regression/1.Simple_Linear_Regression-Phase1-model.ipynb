{
 "cells": [
  {
   "cell_type": "code",
   "execution_count": 1,
   "id": "2c8dac10-0719-4ffc-a317-fba5352ecb81",
   "metadata": {},
   "outputs": [
    {
     "name": "stdout",
     "output_type": "stream",
     "text": [
      "    YearsExperience    Salary\n",
      "0               1.1   39343.0\n",
      "1               1.3   46205.0\n",
      "2               1.5   37731.0\n",
      "3               2.0   43525.0\n",
      "4               2.2   39891.0\n",
      "5               2.9   56642.0\n",
      "6               3.0   60150.0\n",
      "7               3.2   54445.0\n",
      "8               3.2   64445.0\n",
      "9               3.7   57189.0\n",
      "10              3.9   63218.0\n",
      "11              4.0   55794.0\n",
      "12              4.0   56957.0\n",
      "13              4.1   57081.0\n",
      "14              4.5   61111.0\n",
      "15              4.9   67938.0\n",
      "16              5.1   66029.0\n",
      "17              5.3   83088.0\n",
      "18              5.9   81363.0\n",
      "19              6.0   93940.0\n",
      "20              6.8   91738.0\n",
      "21              7.1   98273.0\n",
      "22              7.9  101302.0\n",
      "23              8.2  113812.0\n",
      "24              8.7  109431.0\n",
      "25              9.0  105582.0\n",
      "26              9.5  116969.0\n",
      "27              9.6  112635.0\n",
      "28             10.3  122391.0\n",
      "29             10.5  121872.0\n",
      "[[167181.3106341]]\n"
     ]
    },
    {
     "name": "stderr",
     "output_type": "stream",
     "text": [
      "/usr/local/lib/python3.8/dist-packages/sklearn/base.py:465: UserWarning: X does not have valid feature names, but LinearRegression was fitted with feature names\n",
      "  warnings.warn(\n"
     ]
    }
   ],
   "source": [
    "# import libraries\n",
    "import pandas as pd\n",
    "\n",
    "# Read CSV File\n",
    "dataset=pd.read_csv(\"Salary_Data.csv\")\n",
    "\n",
    "# Print raw data\n",
    "print(dataset)\n",
    "\n",
    "# Store YearsExperience column in independent\n",
    "independent = dataset[[\"YearsExperience\"]]\n",
    "#print(independent)\n",
    "\n",
    "# Store Salary column in dependent\n",
    "dependent = dataset[[\"Salary\"]]\n",
    "#print(dependent)\n",
    "\n",
    "# import train, test and split from scikit\n",
    "from sklearn.model_selection import train_test_split\n",
    "#train_test_split(independent,dependent,test_size=0.30,random_state=0)\n",
    "#returns 4 lists x2 YearsExperience and x2 Salary\n",
    "# X is input and y is output\n",
    "X_train,X_test,y_train,y_test = train_test_split(independent,dependent,test_size=0.30,random_state=0)\n",
    "\n",
    "# import Linear Regression library\n",
    "from sklearn.linear_model import LinearRegression\n",
    "regressor=LinearRegression()\n",
    "regressor.fit(X_train,y_train)\n",
    "\n",
    "# Weight\n",
    "weight=regressor.coef_\n",
    "#print(weight)\n",
    "\n",
    "# Bias\n",
    "bais=regressor.intercept_\n",
    "#print(bais)\n",
    "\n",
    "# Evaluation\n",
    "y_pred=regressor.predict(X_test)\n",
    "#print(y_pred)\n",
    "\n",
    "# R square value\n",
    "from sklearn.metrics import r2_score\n",
    "r_score = r2_score(y_test,y_pred)\n",
    "#print(r_score)\n",
    "\n",
    "# Save the model\n",
    "import pickle\n",
    "filename = 'finalized_model_linear.sav'\n",
    "pickle.dump(regressor, open(filename, 'wb'))\n",
    "\n",
    "# load the saved model\n",
    "loaded_model = pickle.load(open('finalized_model_linear.sav', 'rb'))\n",
    "# Input is 'YearsExperience=15' to predict the 'Salary'\n",
    "result = loaded_model.predict([[15]])\n",
    "print(result)"
   ]
  },
  {
   "cell_type": "code",
   "execution_count": null,
   "id": "b00e66f2-6979-4b03-85ad-35e2e9c6be44",
   "metadata": {},
   "outputs": [],
   "source": []
  },
  {
   "cell_type": "code",
   "execution_count": null,
   "id": "1ca8174a-5122-4250-bd57-924ee9cf5585",
   "metadata": {},
   "outputs": [],
   "source": []
  }
 ],
 "metadata": {
  "kernelspec": {
   "display_name": "Python 3 (ipykernel)",
   "language": "python",
   "name": "python3"
  },
  "language_info": {
   "codemirror_mode": {
    "name": "ipython",
    "version": 3
   },
   "file_extension": ".py",
   "mimetype": "text/x-python",
   "name": "python",
   "nbconvert_exporter": "python",
   "pygments_lexer": "ipython3",
   "version": "3.8.10"
  }
 },
 "nbformat": 4,
 "nbformat_minor": 5
}
