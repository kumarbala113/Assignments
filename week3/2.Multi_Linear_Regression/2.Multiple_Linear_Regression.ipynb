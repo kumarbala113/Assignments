{
 "cells": [
  {
   "cell_type": "code",
   "execution_count": 17,
   "id": "09e9c912-5f34-45a7-993e-8c132555308e",
   "metadata": {},
   "outputs": [
    {
     "name": "stdout",
     "output_type": "stream",
     "text": [
      "[[43994.79745873]]\n"
     ]
    },
    {
     "name": "stderr",
     "output_type": "stream",
     "text": [
      "/home/kumar/anaconda3/lib/python3.12/site-packages/sklearn/base.py:493: UserWarning: X does not have valid feature names, but LinearRegression was fitted with feature names\n",
      "  warnings.warn(\n"
     ]
    }
   ],
   "source": [
    "import pandas as pd\n",
    "dataset = pd.read_csv(\"50_Startups.csv\")\n",
    "#print(dataset)\n",
    "\n",
    "dataset = pd.get_dummies(dataset,drop_first=True)\n",
    "#print(dataset)\n",
    "\n",
    "#print(dataset.columns)\n",
    "\n",
    "independent=dataset[['R&D Spend', 'Administration', 'Marketing Spend','State_Florida', 'State_New York']]\n",
    "\n",
    "#print(independent)\n",
    "\n",
    "dependent=dataset[['Profit']]\n",
    "\n",
    "#print(dependent)\n",
    "\n",
    "# import train, test and split from scikit\n",
    "from sklearn.model_selection import train_test_split\n",
    "#train_test_split(independent,dependent,test_size=0.30,random_state=0)\n",
    "#returns 4 lists x2 YearsExperience and x2 Salary\n",
    "# X is input and y is output\n",
    "X_train,X_test,y_train,y_test = train_test_split(independent,dependent,test_size=0.30,random_state=0)\n",
    "\n",
    "\n",
    "# import Linear Regression library\n",
    "from sklearn.linear_model import LinearRegression\n",
    "regressor=LinearRegression()\n",
    "regressor.fit(X_train,y_train)\n",
    "\n",
    "# Weight\n",
    "weight=regressor.coef_\n",
    "#print(weight)\n",
    "\n",
    "# Bias\n",
    "bais=regressor.intercept_\n",
    "#print(bais)\n",
    "\n",
    "# Evaluation\n",
    "y_pred=regressor.predict(X_test)\n",
    "#print(y_pred)\n",
    "\n",
    "# R square value\n",
    "from sklearn.metrics import r2_score\n",
    "r_score = r2_score(y_test,y_pred)\n",
    "#print(r_score)\n",
    "\n",
    "# Save the model\n",
    "import pickle\n",
    "filename = 'finalized_model_Mul_linear.sav'\n",
    "pickle.dump(regressor, open(filename, 'wb'))\n",
    "\n",
    "# load the saved model\n",
    "loaded_model = pickle.load(open('finalized_model_Mul_linear.sav', 'rb'))\n",
    "# 'R&D Spend=1234', 'Administration=345', 'Marketing Spend=4565','State_Florida=1', 'State_New York=0'\n",
    "# This are the values that is input to the system to predict the profit.\n",
    "result = loaded_model.predict([[1234,345,4565,1,0]])\n",
    "print(result)\n"
   ]
  },
  {
   "cell_type": "code",
   "execution_count": null,
   "id": "a7f67827-2aa7-4847-a329-010bd2360806",
   "metadata": {},
   "outputs": [],
   "source": []
  }
 ],
 "metadata": {
  "kernelspec": {
   "display_name": "Python 3 (ipykernel)",
   "language": "python",
   "name": "python3"
  },
  "language_info": {
   "codemirror_mode": {
    "name": "ipython",
    "version": 3
   },
   "file_extension": ".py",
   "mimetype": "text/x-python",
   "name": "python",
   "nbconvert_exporter": "python",
   "pygments_lexer": "ipython3",
   "version": "3.12.7"
  }
 },
 "nbformat": 4,
 "nbformat_minor": 5
}
