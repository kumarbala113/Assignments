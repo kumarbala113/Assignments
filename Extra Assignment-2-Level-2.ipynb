{
 "cells": [
  {
   "cell_type": "code",
   "execution_count": 2,
   "id": "8db01516-bbf3-4af8-a8df-099636631934",
   "metadata": {},
   "outputs": [
    {
     "name": "stdout",
     "output_type": "stream",
     "text": [
      "0\n",
      "1\n",
      "2\n",
      "3\n",
      "4\n",
      "5\n",
      "6\n",
      "7\n",
      "8\n",
      "9\n",
      "10\n",
      "11\n",
      "12\n",
      "13\n",
      "14\n",
      "15\n",
      "16\n",
      "17\n",
      "18\n",
      "19\n"
     ]
    }
   ],
   "source": [
    "# print 0 to 20 by using range\n",
    "for a in range(0,20):\n",
    "    print(a)"
   ]
  },
  {
   "cell_type": "code",
   "execution_count": 4,
   "id": "268c1bb0-531f-47d6-9567-5f41dcad4bc2",
   "metadata": {},
   "outputs": [
    {
     "name": "stdout",
     "output_type": "stream",
     "text": [
      "10 11 12 13 14 15 16 17 18 19 "
     ]
    }
   ],
   "source": [
    "# print 10 to 20 by using range\n",
    "for a in range(10,20):\n",
    "    print(a, end=\" \")"
   ]
  },
  {
   "cell_type": "code",
   "execution_count": 10,
   "id": "38470028-ef26-42f2-8dc2-f33d63224fee",
   "metadata": {},
   "outputs": [
    {
     "name": "stdout",
     "output_type": "stream",
     "text": [
      "7\n"
     ]
    }
   ],
   "source": [
    "# Print number of items in the list\n",
    "List2=[10,20,14,55,43,87,76]\n",
    "list_length = len(List2)\n",
    "print(list_length)"
   ]
  },
  {
   "cell_type": "code",
   "execution_count": 14,
   "id": "b92e5dfe-48c7-4bbf-b659-bef47657298e",
   "metadata": {},
   "outputs": [
    {
     "name": "stdout",
     "output_type": "stream",
     "text": [
      "A\n",
      "r\n",
      "t\n",
      "i\n",
      "f\n",
      "i\n",
      "c\n",
      "i\n",
      "a\n",
      "l\n",
      " \n",
      "I\n",
      "n\n",
      "t\n",
      "e\n",
      "l\n",
      "l\n",
      "i\n",
      "g\n",
      "e\n",
      "n\n",
      "c\n",
      "e\n"
     ]
    }
   ],
   "source": [
    "#Print 'Artificial Intelligence'\n",
    "my_string = \"Artificial Intelligence\"\n",
    "for char in my_string:\n",
    "    print(char)"
   ]
  },
  {
   "cell_type": "code",
   "execution_count": 15,
   "id": "0a9a3631-4f3c-44f8-a3c1-a21b6a5782ae",
   "metadata": {},
   "outputs": [
    {
     "name": "stdout",
     "output_type": "stream",
     "text": [
      "-Your Name-\n",
      "-Your Age-\n",
      "-Your Profession-\n"
     ]
    }
   ],
   "source": [
    "# Print something\n",
    "print(\"-Your Name-\")\n",
    "print(\"-Your Age-\")\n",
    "print(\"-Your Profession-\")\n"
   ]
  },
  {
   "cell_type": "code",
   "execution_count": 16,
   "id": "f3c532ab-e41a-477e-9a57-c2e92fcff9e0",
   "metadata": {},
   "outputs": [
    {
     "name": "stdout",
     "output_type": "stream",
     "text": [
      "(1, 'Welcome', 2, 'Hope')\n"
     ]
    }
   ],
   "source": [
    "# Tuple mixed datatype\n",
    "my_tuple = (1,'Welcome',2,'Hope')\n",
    "print(my_tuple)"
   ]
  },
  {
   "cell_type": "code",
   "execution_count": 18,
   "id": "c1a77423-daf1-48cf-aae8-038c26326518",
   "metadata": {},
   "outputs": [
    {
     "name": "stdout",
     "output_type": "stream",
     "text": [
      "((0, 1, 2, 3), ('python', 'HOPE'))\n"
     ]
    }
   ],
   "source": [
    "# Nested tuple\n",
    "Tuple1 = (0,1,2,3)\n",
    "Tuple2 = ('python','HOPE')\n",
    "Tuple3 = (Tuple1,Tuple2)\n",
    "print(Tuple3)"
   ]
  },
  {
   "cell_type": "code",
   "execution_count": 26,
   "id": "c51f70f1-c191-4ef5-a464-977c48be64b2",
   "metadata": {},
   "outputs": [
    {
     "name": "stdout",
     "output_type": "stream",
     "text": [
      "19 is an Odd number.\n",
      "25 is an Odd number.\n",
      "1 is an Odd number.\n"
     ]
    }
   ],
   "source": [
    "# print odd numbers in the list\n",
    "numbers = (20,10,16,19,25,1,276,188)\n",
    "for Oddnum in numbers:\n",
    "    if Oddnum % 2 != 0:\n",
    "        print(f\"{Oddnum} is an Odd number.\")"
   ]
  },
  {
   "cell_type": "code",
   "execution_count": 28,
   "id": "fe7dc3f1-b282-4aee-8cc1-b00352fad120",
   "metadata": {},
   "outputs": [
    {
     "name": "stdout",
     "output_type": "stream",
     "text": [
      "20 is an Even number.\n",
      "10 is an Even number.\n",
      "16 is an Even number.\n",
      "276 is an Even number.\n",
      "188 is an Even number.\n"
     ]
    }
   ],
   "source": [
    "# print Even numbers in the list\n",
    "numbers = (20,10,16,19,25,1,276,188)\n",
    "for Evenum in numbers:\n",
    "    if Evenum % 2 == 0:\n",
    "        print(f\"{Evenum} is an Even number.\")"
   ]
  },
  {
   "cell_type": "code",
   "execution_count": null,
   "id": "68aefef0-7e12-4e3b-8092-499bd4ec0c00",
   "metadata": {},
   "outputs": [],
   "source": []
  }
 ],
 "metadata": {
  "kernelspec": {
   "display_name": "Python 3 (ipykernel)",
   "language": "python",
   "name": "python3"
  },
  "language_info": {
   "codemirror_mode": {
    "name": "ipython",
    "version": 3
   },
   "file_extension": ".py",
   "mimetype": "text/x-python",
   "name": "python",
   "nbconvert_exporter": "python",
   "pygments_lexer": "ipython3",
   "version": "3.12.7"
  }
 },
 "nbformat": 4,
 "nbformat_minor": 5
}
