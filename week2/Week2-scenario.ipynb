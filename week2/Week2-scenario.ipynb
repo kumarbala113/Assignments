{
 "cells": [
  {
   "cell_type": "code",
   "execution_count": null,
   "id": "4d2fe01e-fe96-400c-9c09-6eabf1b446bd",
   "metadata": {},
   "outputs": [],
   "source": [
    "1. Scenario: You are developing a banking application that categorizes transactions based on the amount entered.\n",
    " Write logic to determine whether the amount is positive, negative, or zero.\n"
   ]
  },
  {
   "cell_type": "code",
   "execution_count": 1,
   "id": "13a85802-614c-412c-92df-d21245e82b95",
   "metadata": {},
   "outputs": [
    {
     "name": "stdout",
     "output_type": "stream",
     "text": [
      "Transaction Amount: $-150.00\n",
      "Category: Negative transaction\n"
     ]
    }
   ],
   "source": [
    "def categorize_transaction(amount):\n",
    "    if amount > 0:\n",
    "        return \"Positive transaction\"\n",
    "    elif amount < 0:\n",
    "        return \"Negative transaction\"\n",
    "    else:\n",
    "        return \"Zero transaction\"\n",
    "\n",
    "transaction_amount = -150.00\n",
    "category = categorize_transaction(transaction_amount)\n",
    "print(f\"Transaction Amount: ${transaction_amount:.2f}\")\n",
    "print(f\"Category: {category}\")"
   ]
  },
  {
   "cell_type": "code",
   "execution_count": null,
   "id": "49cfa66e-1625-4733-9a32-ef4c83e68aba",
   "metadata": {},
   "outputs": [],
   "source": [
    "2.\tScenario: A digital locker requires users to enter a numerical passcode. As part of a security feature, the system checks the sum of the digits of the passcode.\n",
    " Write logic to compute the sum of the digits of a given number.\n"
   ]
  },
  {
   "cell_type": "code",
   "execution_count": 2,
   "id": "34b2dcb9-af45-4ce6-a949-5722707b0f76",
   "metadata": {},
   "outputs": [
    {
     "name": "stdout",
     "output_type": "stream",
     "text": [
      "Passcode: 4839\n",
      "Sum of digits: 24\n"
     ]
    }
   ],
   "source": [
    "def sum_of_digits(passcode):\n",
    "    return sum(int(digit) for digit in str(abs(passcode)))\n",
    "\n",
    "passcode = 4839\n",
    "digit_sum = sum_of_digits(passcode)\n",
    "print(f\"Passcode: {passcode}\")\n",
    "print(f\"Sum of digits: {digit_sum}\")\n"
   ]
  },
  {
   "cell_type": "code",
   "execution_count": null,
   "id": "c633441e-0151-4cd8-a609-a4a60fff65f6",
   "metadata": {},
   "outputs": [],
   "source": [
    "3.\tScenario: A mobile payment app uses a simple checksum validation where reversing a transaction ID helps detect fraud.\n",
    " Write logic to take a number and return its reverse.\n"
   ]
  },
  {
   "cell_type": "code",
   "execution_count": 3,
   "id": "3169b522-dc2e-477b-aaa3-98ecde35db62",
   "metadata": {},
   "outputs": [
    {
     "name": "stdout",
     "output_type": "stream",
     "text": [
      "Original ID: 73021\n",
      "Reversed ID: 12037\n"
     ]
    }
   ],
   "source": [
    "def reverse_number(number):\n",
    "    reversed_num = int(str(abs(number))[::-1])\n",
    "    return -reversed_num if number < 0 else reversed_num\n",
    "\n",
    "transaction_id = 73021\n",
    "reversed_id = reverse_number(transaction_id)\n",
    "print(f\"Original ID: {transaction_id}\")\n",
    "print(f\"Reversed ID: {reversed_id}\")"
   ]
  },
  {
   "cell_type": "code",
   "execution_count": null,
   "id": "366781ec-a0ca-4d11-ad28-5335de7d8d3f",
   "metadata": {},
   "outputs": [],
   "source": [
    "4.\tScenario: In a secure login system, certain features are enabled only for users with prime-numbered user IDs.\n",
    " Write logic to check if a given number is prime.\n"
   ]
  },
  {
   "cell_type": "code",
   "execution_count": 4,
   "id": "72929f75-26fe-461c-a542-83be40b62b53",
   "metadata": {},
   "outputs": [
    {
     "name": "stdout",
     "output_type": "stream",
     "text": [
      "User ID 29 is prime — enabling secure features.\n"
     ]
    }
   ],
   "source": [
    "def is_prime(number):\n",
    "    if number <= 1:\n",
    "        return False\n",
    "    if number == 2:\n",
    "        return True\n",
    "    if number % 2 == 0:\n",
    "        return False\n",
    "    for i in range(3, int(number ** 0.5) + 1, 2):\n",
    "        if number % i == 0:\n",
    "            return False\n",
    "    return True\n",
    "\n",
    "user_id = 29\n",
    "if is_prime(user_id):\n",
    "    print(f\"User ID {user_id} is prime — enabling secure features.\")\n",
    "else:\n",
    "    print(f\"User ID {user_id} is not prime — access limited.\")"
   ]
  },
  {
   "cell_type": "code",
   "execution_count": null,
   "id": "d812c87b-8245-405e-9ef1-f5ab9045972e",
   "metadata": {},
   "outputs": [],
   "source": [
    "5.\tScenario: A scientist is working on permutations and needs to calculate the factorial of numbers frequently.\n",
    " Write logic to find the factorial of a given number using recursion.\n"
   ]
  },
  {
   "cell_type": "code",
   "execution_count": 5,
   "id": "9545c197-ea93-4bab-975c-35c14f43e2b3",
   "metadata": {},
   "outputs": [
    {
     "name": "stdout",
     "output_type": "stream",
     "text": [
      "Factorial of 5 is 120\n"
     ]
    }
   ],
   "source": [
    "def factorial(n):\n",
    "    if n < 0:\n",
    "        raise ValueError(\"Factorial is not defined for negative numbers.\")\n",
    "    if n == 0 or n == 1:\n",
    "        return 1\n",
    "    return n * factorial(n - 1)\n",
    "\n",
    "number = 5\n",
    "result = factorial(number)\n",
    "print(f\"Factorial of {number} is {result}\")\n"
   ]
  },
  {
   "cell_type": "code",
   "execution_count": null,
   "id": "1354f494-04ec-4f47-906f-6f1cfa075439",
   "metadata": {},
   "outputs": [],
   "source": [
    "6.\tScenario: A unique lottery system assigns ticket numbers where only Armstrong numbers win the jackpot.\n",
    " Write logic to check whether a given number is an Armstrong number.\n"
   ]
  },
  {
   "cell_type": "code",
   "execution_count": 6,
   "id": "08a3576c-488e-4c14-a857-5ee968d0ac71",
   "metadata": {},
   "outputs": [
    {
     "name": "stdout",
     "output_type": "stream",
     "text": [
      "Ticket 9474 is an Armstrong number — Jackpot winner!\n"
     ]
    }
   ],
   "source": [
    "def is_armstrong(number):\n",
    "    num_str = str(number)\n",
    "    num_digits = len(num_str)\n",
    "    total = sum(int(digit) ** num_digits for digit in num_str)\n",
    "    return total == number\n",
    "\n",
    "ticket_number = 9474\n",
    "if is_armstrong(ticket_number):\n",
    "    print(f\"Ticket {ticket_number} is an Armstrong number — Jackpot winner!\")\n",
    "else:\n",
    "    print(f\"Ticket {ticket_number} is not an Armstrong number.\")"
   ]
  },
  {
   "cell_type": "code",
   "execution_count": null,
   "id": "745e8b6f-d1b9-4bda-b29b-d7b2dabf1ad3",
   "metadata": {},
   "outputs": [],
   "source": [
    "7.\tScenario: A password manager needs to strengthen weak passwords by swapping the first and last characters of user-generated passwords.\n",
    " Write logic to perform this operation on a given string.\n"
   ]
  },
  {
   "cell_type": "code",
   "execution_count": 7,
   "id": "bd3ad098-4fa8-42e0-b655-5648b2a7ae2f",
   "metadata": {},
   "outputs": [
    {
     "name": "stdout",
     "output_type": "stream",
     "text": [
      "Weak Password: secure123\n",
      "Strengthened Password: 3ecure12s\n"
     ]
    }
   ],
   "source": [
    "def swap_first_last(password):\n",
    "    if len(password) < 2:\n",
    "        return password  # No swap needed for empty or single-character strings\n",
    "    return password[-1] + password[1:-1] + password[0]\n",
    "    \n",
    "weak_password = \"secure123\"\n",
    "strong_password = swap_first_last(weak_password)\n",
    "print(f\"Weak Password: {weak_password}\")\n",
    "print(f\"Strengthened Password: {strong_password}\")\n",
    "\n"
   ]
  },
  {
   "cell_type": "code",
   "execution_count": null,
   "id": "6a074e9f-e949-41eb-baba-4204ebeb16e4",
   "metadata": {},
   "outputs": [],
   "source": [
    "8.\tScenario: A low-level networking application requires decimal numbers to be converted into binary format before transmission.\n",
    " Write logic to convert a given decimal number into its binary equivalent.\n"
   ]
  },
  {
   "cell_type": "code",
   "execution_count": 8,
   "id": "b4a39a5c-9400-4454-9bfe-cda2e4f9c8c7",
   "metadata": {},
   "outputs": [
    {
     "name": "stdout",
     "output_type": "stream",
     "text": [
      "Decimal: 45\n",
      "Binary: 101101\n"
     ]
    }
   ],
   "source": [
    "def decimal_to_binary(number):\n",
    "    if number < 0:\n",
    "        raise ValueError(\"Binary conversion is only defined for non-negative integers.\")\n",
    "    return bin(number)[2:]\n",
    "\n",
    "decimal_number = 45\n",
    "binary_result = decimal_to_binary(decimal_number)\n",
    "print(f\"Decimal: {decimal_number}\")\n",
    "print(f\"Binary: {binary_result}\")"
   ]
  },
  {
   "cell_type": "code",
   "execution_count": null,
   "id": "ef27a671-73ba-48d5-bac6-3dc33f2b1ded",
   "metadata": {},
   "outputs": [],
   "source": [
    "9.\tScenario: A text-processing tool helps summarize articles by identifying the most significant words.\n",
    " Write logic to find the longest word in a sentence.\n"
   ]
  },
  {
   "cell_type": "code",
   "execution_count": 9,
   "id": "62280e52-cbac-448f-b94b-360e8c932eb9",
   "metadata": {},
   "outputs": [
    {
     "name": "stdout",
     "output_type": "stream",
     "text": [
      "Longest word: text-processing\n"
     ]
    }
   ],
   "source": [
    "def find_longest_word(sentence):\n",
    "    words = sentence.split()\n",
    "    longest = max(words, key=len)\n",
    "    return longest\n",
    "\n",
    "text = \"A text-processing tool helps summarize articles efficiently\"\n",
    "longest_word = find_longest_word(text)\n",
    "print(f\"Longest word: {longest_word}\")"
   ]
  },
  {
   "cell_type": "code",
   "execution_count": null,
   "id": "e1e1d665-749c-4276-af03-a16d4582f965",
   "metadata": {},
   "outputs": [],
   "source": [
    "10.\tScenario: A plagiarism detection tool compares words from different documents and checks if they are anagrams (same characters but different order).\n",
    " Write logic to check whether two given strings are anagrams.\n"
   ]
  },
  {
   "cell_type": "code",
   "execution_count": 10,
   "id": "f1ff87c2-6c76-493e-93f3-3be83cc11756",
   "metadata": {},
   "outputs": [
    {
     "name": "stdout",
     "output_type": "stream",
     "text": [
      "\"Listen\" and \"Silent\" are anagrams.\n"
     ]
    }
   ],
   "source": [
    "def are_anagrams(str1, str2):\n",
    "    # Normalize by removing spaces and converting to lowercase\n",
    "    str1_clean = ''.join(str1.lower().split())\n",
    "    str2_clean = ''.join(str2.lower().split())\n",
    "    \n",
    "    return sorted(str1_clean) == sorted(str2_clean)\n",
    "\n",
    "\n",
    "doc_word_1 = \"Listen\"\n",
    "doc_word_2 = \"Silent\"\n",
    "\n",
    "if are_anagrams(doc_word_1, doc_word_2):\n",
    "    print(f'\"{doc_word_1}\" and \"{doc_word_2}\" are anagrams.')\n",
    "else:\n",
    "    print(f'\"{doc_word_1}\" and \"{doc_word_2}\" are not anagrams.')"
   ]
  },
  {
   "cell_type": "code",
   "execution_count": null,
   "id": "f10cce68-89a5-41bc-a034-498d654b45f8",
   "metadata": {},
   "outputs": [],
   "source": []
  }
 ],
 "metadata": {
  "kernelspec": {
   "display_name": "Python 3 (ipykernel)",
   "language": "python",
   "name": "python3"
  },
  "language_info": {
   "codemirror_mode": {
    "name": "ipython",
    "version": 3
   },
   "file_extension": ".py",
   "mimetype": "text/x-python",
   "name": "python",
   "nbconvert_exporter": "python",
   "pygments_lexer": "ipython3",
   "version": "3.12.7"
  }
 },
 "nbformat": 4,
 "nbformat_minor": 5
}
