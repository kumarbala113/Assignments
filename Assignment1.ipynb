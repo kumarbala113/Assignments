{
 "cells": [
  {
   "cell_type": "code",
   "execution_count": 1,
   "id": "f2cad7cb-6741-4dec-977d-9e4a077981ef",
   "metadata": {},
   "outputs": [
    {
     "name": "stdout",
     "output_type": "stream",
     "text": [
      "Welcome to Assignment-1\n"
     ]
    }
   ],
   "source": [
    "# Using print statement\n",
    "print(\"Welcome to Assignment-1\")"
   ]
  },
  {
   "cell_type": "code",
   "execution_count": 2,
   "id": "d7ed4c5b-a82c-4812-b18d-dd6175de1ddd",
   "metadata": {},
   "outputs": [
    {
     "name": "stdout",
     "output_type": "stream",
     "text": [
      "40\n"
     ]
    }
   ],
   "source": [
    "# Addition\n",
    "Num1 = 10\n",
    "Num2 = 30\n",
    "Add = Num1 + Num2\n",
    "print(Add)"
   ]
  },
  {
   "cell_type": "code",
   "execution_count": 14,
   "id": "a42abdb8-4f8d-445e-bac9-22f727f62197",
   "metadata": {},
   "outputs": [
    {
     "name": "stdin",
     "output_type": "stream",
     "text": [
      "Enter BMI:  50\n"
     ]
    },
    {
     "name": "stdout",
     "output_type": "stream",
     "text": [
      "BMI:  50.0  is Extremely Obese\n"
     ]
    }
   ],
   "source": [
    "#Body Mass Index (BMI)\n",
    "# < 18.5 Under Weight\n",
    "# 18.5-24.9 Normal\n",
    "# 25.0 - 29.9 Overweight\n",
    "# 30.0 - 34.9 Obese\n",
    "# > 35.0 Extremely Obese\n",
    "\n",
    "bmi = float(input(\"Enter BMI: \"))\n",
    "if (bmi < 18.5):\n",
    "    print(\"BMI: \",bmi,\" is Under Weight\")\n",
    "elif (bmi >= 18.5) and (bmi <=24.9):\n",
    "    print(\"BMI: \",bmi,\" is Normal Weight\")\n",
    "elif (bmi >= 25.0) and (bmi <=29.9):\n",
    "    print(\"BMI: \",bmi,\" is Over Weight\")\n",
    "elif (bmi >= 30.0) and (bmi <=34.9):\n",
    "    print(\"BMI: \",bmi,\" is Obese\")\n",
    "else:\n",
    "    print(\"BMI: \",bmi,\" is Extremely Obese\")\n",
    "    "
   ]
  },
  {
   "cell_type": "code",
   "execution_count": null,
   "id": "4ce181bf-02ac-4b0d-8f10-c2e28af5597c",
   "metadata": {},
   "outputs": [],
   "source": []
  }
 ],
 "metadata": {
  "kernelspec": {
   "display_name": "Python 3 (ipykernel)",
   "language": "python",
   "name": "python3"
  },
  "language_info": {
   "codemirror_mode": {
    "name": "ipython",
    "version": 3
   },
   "file_extension": ".py",
   "mimetype": "text/x-python",
   "name": "python",
   "nbconvert_exporter": "python",
   "pygments_lexer": "ipython3",
   "version": "3.12.7"
  }
 },
 "nbformat": 4,
 "nbformat_minor": 5
}
