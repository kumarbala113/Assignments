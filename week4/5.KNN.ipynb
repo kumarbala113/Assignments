{
 "cells": [
  {
   "cell_type": "code",
   "execution_count": 14,
   "id": "d807e84d-8346-437c-b4b6-6b466f121e1d",
   "metadata": {},
   "outputs": [
    {
     "name": "stdout",
     "output_type": "stream",
     "text": [
      "[[79  6]\n",
      " [16 33]]\n",
      "              precision    recall  f1-score   support\n",
      "\n",
      "           0       0.83      0.93      0.88        85\n",
      "           1       0.85      0.67      0.75        49\n",
      "\n",
      "    accuracy                           0.84       134\n",
      "   macro avg       0.84      0.80      0.81       134\n",
      "weighted avg       0.84      0.84      0.83       134\n",
      "\n"
     ]
    }
   ],
   "source": [
    "# Import libraries\n",
    "import numpy as np\n",
    "import matplotlib.pyplot as plt\n",
    "import pandas as pd\n",
    "\n",
    "# Read csv\n",
    "dataset = pd.read_csv(\"Social_Network_Ads.csv\")\n",
    "#print(dataset)\n",
    "\n",
    "dataset=pd.get_dummies(dataset,drop_first=True)\n",
    "#dataset\n",
    "\n",
    "dataset = dataset.drop(\"User ID\",axis=1)\n",
    "dataset[\"Purchased\"].value_counts()\n",
    "\n",
    "indep = dataset[[\"Age\",\"EstimatedSalary\",\"Gender_Male\"]]\n",
    "dep = dataset[\"Purchased\"]\n",
    "\n",
    "indep.shape\n",
    "dep\n",
    "\n",
    "# split into training and test set\n",
    "from sklearn.model_selection import train_test_split\n",
    "X_train, X_test, y_train, y_test = train_test_split(indep, dep, test_size = 1/3, random_state = 0)\n",
    "\n",
    "# Fit creates the model\n",
    "from sklearn.neighbors import KNeighborsClassifier\n",
    "classifier = KNeighborsClassifier(n_neighbors = 7, metric = 'minkowski', p = 2)\n",
    "classifier.fit(X_train, y_train)\n",
    "\n",
    "y_pred = classifier.predict(X_test)\n",
    "\n",
    "from sklearn.metrics import confusion_matrix\n",
    "cm = confusion_matrix(y_test, y_pred)\n",
    "print(cm)\n",
    "\n",
    "# 6 is type I error  and  9 is type II error,\n",
    "# type I error should be minimum, type II error does not have to be minimum value\n",
    "from sklearn.metrics import classification_report\n",
    "clf_report = classification_report(y_test, y_pred)\n",
    "\n",
    "print(clf_report)\n",
    "\n"
   ]
  },
  {
   "cell_type": "code",
   "execution_count": null,
   "id": "e708bec8-2b05-422d-8bd1-bc8735be805a",
   "metadata": {},
   "outputs": [],
   "source": []
  }
 ],
 "metadata": {
  "kernelspec": {
   "display_name": "Python 3 (ipykernel)",
   "language": "python",
   "name": "python3"
  },
  "language_info": {
   "codemirror_mode": {
    "name": "ipython",
    "version": 3
   },
   "file_extension": ".py",
   "mimetype": "text/x-python",
   "name": "python",
   "nbconvert_exporter": "python",
   "pygments_lexer": "ipython3",
   "version": "3.12.7"
  }
 },
 "nbformat": 4,
 "nbformat_minor": 5
}
