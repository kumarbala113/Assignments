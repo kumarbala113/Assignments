{
 "cells": [
  {
   "cell_type": "code",
   "execution_count": 3,
   "id": "4121a1c4-a0f2-49ec-adc7-58bbcd4ba2f6",
   "metadata": {},
   "outputs": [
    {
     "name": "stdout",
     "output_type": "stream",
     "text": [
      "     Age  EstimatedSalary  Purchased\n",
      "0     19            19000          0\n",
      "1     35            20000          0\n",
      "2     26            43000          0\n",
      "3     27            57000          0\n",
      "4     19            76000          0\n",
      "..   ...              ...        ...\n",
      "395   46            41000          1\n",
      "396   51            23000          1\n",
      "397   50            20000          1\n",
      "398   36            33000          0\n",
      "399   49            36000          1\n",
      "\n",
      "[400 rows x 3 columns]\n",
      "[[77  8]\n",
      " [ 9 40]]\n",
      "              precision    recall  f1-score   support\n",
      "\n",
      "           0       0.90      0.91      0.90        85\n",
      "           1       0.83      0.82      0.82        49\n",
      "\n",
      "    accuracy                           0.87       134\n",
      "   macro avg       0.86      0.86      0.86       134\n",
      "weighted avg       0.87      0.87      0.87       134\n",
      "\n"
     ]
    }
   ],
   "source": [
    "# Import libraries\n",
    "import numpy as np\n",
    "import matplotlib.pyplot as plt\n",
    "import pandas as pd\n",
    "\n",
    "\n",
    "# Read csv\n",
    "dataset = pd.read_csv(\"Social_Network_Ads.csv\")\n",
    "print(dataset)\n",
    "\n",
    "#dataset=pd.get_dummies(dataset,drop_first=True)\n",
    "#dataset\n",
    "\n",
    "#dataset[\"Purchased\"].value_counts()\n",
    "\n",
    "indep = dataset[[\"Age\",\"EstimatedSalary\"]]\n",
    "dep = dataset[\"Purchased\"]\n",
    "\n",
    "indep.shape\n",
    "\n",
    "dep\n",
    "\n",
    "# Split into training and test dataset\n",
    "from sklearn.model_selection import train_test_split\n",
    "X_train, X_test, y_train, y_test = train_test_split(indep, dep, test_size = 1/3, random_state = 0)\n",
    "\n",
    "from sklearn.tree import DecisionTreeClassifier\n",
    "classifier = DecisionTreeClassifier(criterion = 'entropy', random_state = 0)\n",
    "classifier.fit(X_train, y_train)\n",
    "\n",
    "y_pred = classifier.predict(X_test)\n",
    "\n",
    "from sklearn.metrics import confusion_matrix\n",
    "cm = confusion_matrix(y_test, y_pred)\n",
    "print(cm)\n",
    "\n",
    "from sklearn.metrics import classification_report\n",
    "clf_report = classification_report(y_test, y_pred)\n",
    "print(clf_report)\n",
    "\n",
    "#age_input = float(input(\"Age:\"))\n",
    "#salary_input = float(input(\"Salary:\"))\n",
    "#classifier.predict([[age_input,salary_input]])\n",
    "#dir(clf_report)"
   ]
  },
  {
   "cell_type": "code",
   "execution_count": null,
   "id": "768a5edc-6a1f-4bc3-a1c4-3f2c2a233a9b",
   "metadata": {},
   "outputs": [],
   "source": []
  }
 ],
 "metadata": {
  "kernelspec": {
   "display_name": "Python 3 (ipykernel)",
   "language": "python",
   "name": "python3"
  },
  "language_info": {
   "codemirror_mode": {
    "name": "ipython",
    "version": 3
   },
   "file_extension": ".py",
   "mimetype": "text/x-python",
   "name": "python",
   "nbconvert_exporter": "python",
   "pygments_lexer": "ipython3",
   "version": "3.12.7"
  }
 },
 "nbformat": 4,
 "nbformat_minor": 5
}
