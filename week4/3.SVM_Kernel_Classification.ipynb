{
 "cells": [
  {
   "cell_type": "code",
   "execution_count": 1,
   "id": "6dc02320-b72a-4a5d-8218-e6bcd05c8a3e",
   "metadata": {},
   "outputs": [
    {
     "name": "stdout",
     "output_type": "stream",
     "text": [
      "      User ID  Gender  Age  EstimatedSalary  Purchased\n",
      "0    15624510    Male   19            19000          0\n",
      "1    15810944    Male   35            20000          0\n",
      "2    15668575  Female   26            43000          0\n",
      "3    15603246  Female   27            57000          0\n",
      "4    15804002    Male   19            76000          0\n",
      "..        ...     ...  ...              ...        ...\n",
      "395  15691863  Female   46            41000          1\n",
      "396  15706071    Male   51            23000          1\n",
      "397  15654296  Female   50            20000          1\n",
      "398  15755018    Male   36            33000          0\n",
      "399  15594041  Female   49            36000          1\n",
      "\n",
      "[400 rows x 5 columns]\n",
      "[[82  3]\n",
      " [25 24]]\n",
      "              precision    recall  f1-score   support\n",
      "\n",
      "           0       0.77      0.96      0.85        85\n",
      "           1       0.89      0.49      0.63        49\n",
      "\n",
      "    accuracy                           0.79       134\n",
      "   macro avg       0.83      0.73      0.74       134\n",
      "weighted avg       0.81      0.79      0.77       134\n",
      "\n"
     ]
    }
   ],
   "source": [
    "# Import libraries\n",
    "import numpy as np\n",
    "import matplotlib.pyplot as plt\n",
    "import pandas as pd\n",
    "\n",
    "\n",
    "# Read csv\n",
    "dataset = pd.read_csv(\"Social_Network_Ads.csv\")\n",
    "print(dataset)\n",
    "\n",
    "#dataset=pd.get_dummies(dataset,drop_first=True)\n",
    "#dataset\n",
    "\n",
    "#dataset[\"Purchased\"].value_counts()\n",
    "\n",
    "indep = dataset[[\"Age\",\"EstimatedSalary\"]]\n",
    "dep = dataset[\"Purchased\"]\n",
    "\n",
    "indep.shape\n",
    "\n",
    "dep\n",
    "\n",
    "# Split into training and test dataset\n",
    "from sklearn.model_selection import train_test_split\n",
    "X_train, X_test, y_train, y_test = train_test_split(indep, dep, test_size = 1/3, random_state = 0)\n",
    "\n",
    "from sklearn.svm import SVC\n",
    "classifier = SVC(kernel = 'rbf', random_state = 0)\n",
    "classifier = classifier.fit(X_train, y_train)\n",
    "\n",
    "y_pred = classifier.predict(X_test)\n",
    "\n",
    "from sklearn.metrics import confusion_matrix\n",
    "cm = confusion_matrix(y_test, y_pred)\n",
    "print(cm)\n",
    "\n",
    "from sklearn.metrics import classification_report\n",
    "clf_report = classification_report(y_test, y_pred)\n",
    "print(clf_report)\n",
    "\n",
    "#age_input = float(input(\"Age:\"))\n",
    "#salary_input = float(input(\"Salary:\"))\n",
    "#classifier.predict([[age_input,salary_input]])\n",
    "#dir(clf_report)"
   ]
  },
  {
   "cell_type": "code",
   "execution_count": null,
   "id": "75839aaf-ccf4-46b6-a734-a45d3c465a68",
   "metadata": {},
   "outputs": [],
   "source": []
  }
 ],
 "metadata": {
  "kernelspec": {
   "display_name": "Python 3 (ipykernel)",
   "language": "python",
   "name": "python3"
  },
  "language_info": {
   "codemirror_mode": {
    "name": "ipython",
    "version": 3
   },
   "file_extension": ".py",
   "mimetype": "text/x-python",
   "name": "python",
   "nbconvert_exporter": "python",
   "pygments_lexer": "ipython3",
   "version": "3.12.7"
  }
 },
 "nbformat": 4,
 "nbformat_minor": 5
}
